{
 "cells": [
  {
   "cell_type": "markdown",
   "id": "67763155",
   "metadata": {},
   "source": [
    "PROJECT: SUPPLIER INFORMATION SYSTEM"
   ]
  },
  {
   "cell_type": "markdown",
   "id": "722a9085",
   "metadata": {},
   "source": [
    "#Supplier Data Set:"
   ]
  },
  {
   "cell_type": "code",
   "execution_count": 3,
   "id": "e08c9244",
   "metadata": {},
   "outputs": [],
   "source": [
    "suppliers = [\n",
    "    {\n",
    "        \"city\": \"Greenway\",\n",
    "        \"contact_firstname\": \"Thomas\",\n",
    "        \"contact_lastname\": \"Brown\",\n",
    "        \"contact_title\": \"Mr\",\n",
    "        \"country\": \"Australia\",\n",
    "        \"email\": \"thomas6246.brown@gmail.com\",\n",
    "        \"notes\": \"\",\n",
    "        \"phone\": \"(02) 8770 4857\",\n",
    "        \"postcode\": \"2900\",\n",
    "        \"state\": \"ACT\",\n",
    "        \"street_address\": \"Level 9/2 Michelle Follow\",\n",
    "        \"supplier_id\": 51,\n",
    "        \"supplier_name\": \"Reyes-Goodman\"\n",
    "    },\n",
    "    {\n",
    "        \"city\": \"Dundee\",\n",
    "        \"contact_firstname\": \"Kenneth\",\n",
    "        \"contact_lastname\": \"Thompson\",\n",
    "        \"contact_title\": \"Mr\",\n",
    "        \"country\": \"Australia\",\n",
    "        \"email\": \"kenneth6514.thompson@gmail.com\",\n",
    "        \"notes\": \"\",\n",
    "        \"phone\": \"(02) 4023 4795\",\n",
    "        \"postcode\": \"2370\",\n",
    "        \"state\": \"NSW\",\n",
    "        \"street_address\": \"99 Lopez Heights\",\n",
    "        \"supplier_id\": 52,\n",
    "        \"supplier_name\": \"Cisneros-White\"\n",
    "    },\n",
    "    {\n",
    "        \"city\": \"Benambra\",\n",
    "        \"contact_firstname\": \"Brandi\",\n",
    "        \"contact_lastname\": \"Holland\",\n",
    "        \"contact_title\": \"Mrs\",\n",
    "        \"country\": \"Australia\",\n",
    "        \"email\": \"brandi1472.holland@gmail.com\",\n",
    "        \"notes\": \"\",\n",
    "        \"phone\": \"(03) 9961 5347\",\n",
    "        \"postcode\": \"3900\",\n",
    "        \"state\": \"VIC\",\n",
    "        \"street_address\": \"Flat 37/183 Angela Reserve\",\n",
    "        \"supplier_id\": 53,\n",
    "        \"supplier_name\": \"Morales, Martin and Crane\"\n",
    "    },\n",
    "    {\n",
    "        \"city\": \"Claremont\",\n",
    "        \"contact_firstname\": \"Ryan\",\n",
    "        \"contact_lastname\": \"Guerrero\",\n",
    "        \"contact_title\": \"Mr\",\n",
    "        \"country\": \"Australia\",\n",
    "        \"email\": \"ryan416.guerrero@gmail.com\",\n",
    "        \"notes\": \"\",\n",
    "        \"phone\": \"(08) 9267 7911\",\n",
    "        \"postcode\": \"6910\",\n",
    "        \"state\": \"WA\",\n",
    "        \"street_address\": \"9 Nicholson Circlet\",\n",
    "        \"supplier_id\": 54,\n",
    "        \"supplier_name\": \"Brown PLC\"\n",
    "    }\n",
    "]"
   ]
  },
  {
   "cell_type": "markdown",
   "id": "22922327",
   "metadata": {},
   "source": [
    "#TASK 1: Process a Single Dictionary"
   ]
  },
  {
   "cell_type": "code",
   "execution_count": null,
   "id": "0e355010",
   "metadata": {},
   "outputs": [
    {
     "name": "stdout",
     "output_type": "stream",
     "text": [
      "keys: ['city', 'contact_firstname', 'contact_lastname', 'contact_title', 'country', 'email', 'notes', 'phone', 'postcode', 'state', 'street_address', 'supplier_id', 'supplier_name']\n",
      "values: ['Greenway', 'Thomas', 'Brown', 'Mr', 'Australia', 'thomas6246.brown@gmail.com', '', '(02) 8770 4857', '2900', 'ACT', 'Level 9/2 Michelle Follow', 51, 'Reyes-Goodman']\n",
      "The dictionary does NOT contain the key 'mobile'.\n",
      "Dictionary after clearing: {}\n",
      "Dictionary is now empty.\n"
     ]
    }
   ],
   "source": [
    "#1. Select and copy the first supplier dictionary\n",
    "sup = suppliers[0].copy()\n",
    "\n",
    "#2. Print keys programmatically\n",
    "print(\"keys:\", list(sup.keys()))\n",
    "\n",
    "#3. Print values programmatically\n",
    "print(\"values:\", list(sup.values()))\n",
    "\n",
    "#4. Check if the key 'mobile' exists\n",
    "if 'mobile' in sup:\n",
    "    print(\"The dictionary contains the key 'mobile'.\")\n",
    "else:\n",
    "    print(\"The dictionary does NOT contain the key 'mobile'.\")\n",
    "\n",
    "#5. Delete all items and check if it's empty\n",
    "sup.clear()\n",
    "print(\"Dictionary after clearing:\", sup)\n",
    "if len(sup) == 0:\n",
    "    print(\"Dictionary is now empty.\")"
   ]
  },
  {
   "cell_type": "markdown",
   "id": "534f3e25",
   "metadata": {},
   "source": [
    "#TASK 2: Process a List of Dictionaries"
   ]
  },
  {
   "cell_type": "code",
   "execution_count": null,
   "id": "984b4f24",
   "metadata": {},
   "outputs": [
    {
     "name": "stdout",
     "output_type": "stream",
     "text": [
      "Number of suppliers: 4\n",
      "Updated: Ken\n",
      "Added new supplier: Scott Ltd\n",
      "Supplier with ID 53 removed. Remaining IDs: [51, 52, 54, 55]\n"
     ]
    }
   ],
   "source": [
    "#1. Find the length of the list\n",
    "print(\"Number of suppliers:\", len(suppliers))\n",
    "\n",
    "#2. Change contact_firstname of supplier with supplier_id=52\n",
    "for sup in suppliers:\n",
    "    if sup['supplier_id'] == 52:\n",
    "        sup['contact_firstname'] = \"Ken\"\n",
    "        print(\"Updated:\", sup['contact_firstname'])\n",
    "\n",
    "#3. Add a new supplier\n",
    "new_supplier = {\n",
    "    \"city\": \"Lancaster\",\n",
    "    \"contact_firstname\": \"Tracy\",\n",
    "    \"contact_lastname\": \"Wilson\",\n",
    "    \"contact_title\": \"Mrs\",\n",
    "    \"country\": \"Australia\",\n",
    "    \"email\": \"tracy4587.wilson@gmail.com\",\n",
    "    \"notes\": \"\",\n",
    "    \"phone\": \"(03) 9323 0663\",\n",
    "    \"postcode\": \"3620\",\n",
    "    \"state\": \"VIC\",\n",
    "    \"street_address\": \"Suite 141/8 Black Dale\",\n",
    "    \"supplier_id\": 55,\n",
    "    \"supplier_name\": \"Scott Ltd\"\n",
    "}\n",
    "suppliers.append(new_supplier)\n",
    "print(\"Added new supplier:\", suppliers[-1]['supplier_name'])\n",
    "\n",
    "#4. Remove supplier with supplier_id=53\n",
    "suppliers = [sup for sup in suppliers if sup['supplier_id'] != 53]\n",
    "print(\"Supplier with ID 53 removed. Remaining IDs:\", [sup['supplier_id'] for sup in suppliers])"
   ]
  },
  {
   "cell_type": "markdown",
   "id": "8e2879eb",
   "metadata": {},
   "source": [
    "#TASK 3: User-Defined Functions"
   ]
  },
  {
   "cell_type": "code",
   "execution_count": null,
   "id": "a400d0e8",
   "metadata": {},
   "outputs": [
    {
     "name": "stdout",
     "output_type": "stream",
     "text": [
      "Total items: 5\n",
      "Total sum: 116\n",
      "Average: 23.2\n",
      "Minimum value: 1\n"
     ]
    }
   ],
   "source": [
    "def process_list(lst):\n",
    "    total_items = len(lst)\n",
    "    total_sum = sum(lst)\n",
    "    average = total_sum / total_items\n",
    "    min_value = min(lst)\n",
    "    return total_items, total_sum, average, min_value\n",
    "\n",
    "# Test list\n",
    "my_list = [1, 55, 10, 20, 30]\n",
    "\n",
    "result = process_list(my_list)\n",
    "print(\"Total items:\", result[0])\n",
    "print(\"Total sum:\", result[1])\n",
    "print(\"Average:\", result[2])\n",
    "print(\"Minimum value:\", result[3])"
   ]
  },
  {
   "cell_type": "markdown",
   "id": "3a8de025",
   "metadata": {},
   "source": [
    "#TASK A4:  Iteration"
   ]
  },
  {
   "cell_type": "code",
   "execution_count": null,
   "id": "8e5809a6",
   "metadata": {},
   "outputs": [
    {
     "name": "stdout",
     "output_type": "stream",
     "text": [
      "Supplier names: ['Reyes-Goodman', 'Cisneros-White', 'Brown PLC', 'Scott Ltd']\n",
      "Joined names: Reyes-Goodman; Cisneros-White; Brown PLC; Scott Ltd\n"
     ]
    }
   ],
   "source": [
    "#1. List of supplier_name\n",
    "supplier_names = [sup['supplier_name'] for sup in suppliers]\n",
    "print(\"Supplier names:\", supplier_names)\n",
    "\n",
    "#2. Joined string\n",
    "joined_names = '; '.join(supplier_names)\n",
    "print(\"Joined names:\", joined_names)"
   ]
  },
  {
   "cell_type": "markdown",
   "id": "e4fc6cef",
   "metadata": {},
   "source": [
    "#TASK 5: Create a Dictionary"
   ]
  },
  {
   "cell_type": "code",
   "execution_count": 10,
   "id": "73b7dada",
   "metadata": {},
   "outputs": [
    {
     "name": "stdout",
     "output_type": "stream",
     "text": [
      "{'discontinued': 0, 'lead_time_days': 3, 'product_category': 'Wireless Phone', 'product_description': 'Display: 5.1-inches Camera: ...', 'product_id': 155, 'product_name': 'Samsung Galaxy S5, Black 16GB (Sprint)', 'reorder_level': 18, 'unit_price': 699.99}\n",
      "\n"
     ]
    }
   ],
   "source": [
    "prod_155 = {\n",
    "    \"discontinued\": 0,\n",
    "    \"lead_time_days\": 3,\n",
    "    \"product_category\": \"Wireless Phone\",\n",
    "    \"product_description\": \"Display: 5.1-inches Camera: ...\",\n",
    "    \"product_id\": 155,\n",
    "    \"product_name\": \"Samsung Galaxy S5, Black 16GB (Sprint)\",\n",
    "    \"reorder_level\": 18,\n",
    "    \"unit_price\": 699.99\n",
    "}\n",
    "print(prod_155)\n",
    "print()"
   ]
  },
  {
   "cell_type": "markdown",
   "id": "db5ab033",
   "metadata": {},
   "source": [
    "#TASK 6: Filter Items from a List (VIC/NSW)"
   ]
  },
  {
   "cell_type": "code",
   "execution_count": 11,
   "id": "2c0a8cee",
   "metadata": {},
   "outputs": [
    {
     "name": "stdout",
     "output_type": "stream",
     "text": [
      "Number of VIC/NSW suppliers: 2\n",
      "VIC/NSW suppliers: [{'city': 'Dundee', 'contact_firstname': 'Ken', 'contact_lastname': 'Thompson', 'contact_title': 'Mr', 'country': 'Australia', 'email': 'kenneth6514.thompson@gmail.com', 'notes': '', 'phone': '(02) 4023 4795', 'postcode': '2370', 'state': 'NSW', 'street_address': '99 Lopez Heights', 'supplier_id': 52, 'supplier_name': 'Cisneros-White'}, {'city': 'Lancaster', 'contact_firstname': 'Tracy', 'contact_lastname': 'Wilson', 'contact_title': 'Mrs', 'country': 'Australia', 'email': 'tracy4587.wilson@gmail.com', 'notes': '', 'phone': '(03) 9323 0663', 'postcode': '3620', 'state': 'VIC', 'street_address': 'Suite 141/8 Black Dale', 'supplier_id': 55, 'supplier_name': 'Scott Ltd'}]\n"
     ]
    }
   ],
   "source": [
    "vic_nsw_suppliers = list(filter(lambda x: x['state'] in ('VIC', 'NSW'), suppliers))\n",
    "print(\"Number of VIC/NSW suppliers:\", len(vic_nsw_suppliers))\n",
    "print(\"VIC/NSW suppliers:\", vic_nsw_suppliers)"
   ]
  },
  {
   "cell_type": "markdown",
   "id": "4e80477d",
   "metadata": {},
   "source": [
    "#TASK 7: Process Items from a List (One Line with map & lambda)"
   ]
  },
  {
   "cell_type": "code",
   "execution_count": 15,
   "id": "42de3c00",
   "metadata": {},
   "outputs": [
    {
     "name": "stdout",
     "output_type": "stream",
     "text": [
      "supplier names list: ['Greenway: 51, Reyes-Goodman', 'Dundee: 52, Cisneros-White', 'Claremont: 54, Brown PLC', 'Lancaster: 55, Scott Ltd']\n"
     ]
    }
   ],
   "source": [
    "supplier_names = list(map(lambda x: f\"{x['city']}: {x['supplier_id']}, {x['supplier_name']}\", suppliers))\n",
    "print(\"supplier names list:\", supplier_names)"
   ]
  },
  {
   "cell_type": "markdown",
   "id": "cabebe35",
   "metadata": {},
   "source": [
    "#TASK 8: Date Processing and Formatting"
   ]
  },
  {
   "cell_type": "code",
   "execution_count": null,
   "id": "c58c5f5c",
   "metadata": {},
   "outputs": [
    {
     "name": "stdout",
     "output_type": "stream",
     "text": [
      "2022-03-02\n",
      "\n",
      "28/02/2022\n",
      "\n"
     ]
    }
   ],
   "source": [
    "import datetime\n",
    "\n",
    "#1. Convert Australian date string to a date object\n",
    "d = datetime.date(2022, 3, 2)\n",
    "print(d)\n",
    "print()\n",
    "\n",
    "#2. Print date object for 28/02/2022 in AU format\n",
    "from dateutil.parser import parse\n",
    "\n",
    "date_obj = parse(\"28/02/2022\")\n",
    "oz_date_format = date_obj.strftime('%d/%m/%Y')\n",
    "print(oz_date_format)\n",
    "print()"
   ]
  },
  {
   "cell_type": "markdown",
   "id": "c702ba0a",
   "metadata": {},
   "source": [
    "#TASK 9: Regex (Extract Area Code)"
   ]
  },
  {
   "cell_type": "code",
   "execution_count": 22,
   "id": "5100ac4a",
   "metadata": {},
   "outputs": [
    {
     "name": "stdout",
     "output_type": "stream",
     "text": [
      "Area code: 07\n"
     ]
    }
   ],
   "source": [
    "import re\n",
    "\n",
    "phone_number = \"(07) 3806 8534\"\n",
    "if re.search(r'(^\\(\\d{2}\\) \\d{4} \\d{4})', phone_number):  \n",
    "    print(\"Area code:\", \"07\")\n",
    "else:\n",
    "    print(\"Invalid phone number\")"
   ]
  },
  {
   "cell_type": "markdown",
   "id": "7b9f1622",
   "metadata": {},
   "source": [
    "#TASK 10: OOP: Supplier Class"
   ]
  },
  {
   "cell_type": "code",
   "execution_count": 26,
   "id": "3c8604ee",
   "metadata": {},
   "outputs": [
    {
     "name": "stdout",
     "output_type": "stream",
     "text": [
      "Supplier phone (should be new): (03) 9961 5555\n"
     ]
    }
   ],
   "source": [
    "class Supplier:\n",
    "    def __init__(self, d):\n",
    "        for k in d:\n",
    "            setattr(self, k, d[k])\n",
    "\n",
    "    def set_phone(self, phone):\n",
    "        self.phone = phone\n",
    "\n",
    "    def get_phone(self):\n",
    "        return self.phone\n",
    "\n",
    "# Test the class\n",
    "supp = Supplier(suppliers[2])\n",
    "supp.set_phone(\"(03) 9961 5555\")\n",
    "print(\"Supplier phone (should be new):\", supp.get_phone())"
   ]
  }
 ],
 "metadata": {
  "kernelspec": {
   "display_name": "Python 3",
   "language": "python",
   "name": "python3"
  },
  "language_info": {
   "codemirror_mode": {
    "name": "ipython",
    "version": 3
   },
   "file_extension": ".py",
   "mimetype": "text/x-python",
   "name": "python",
   "nbconvert_exporter": "python",
   "pygments_lexer": "ipython3",
   "version": "3.11.9"
  }
 },
 "nbformat": 4,
 "nbformat_minor": 5
}
